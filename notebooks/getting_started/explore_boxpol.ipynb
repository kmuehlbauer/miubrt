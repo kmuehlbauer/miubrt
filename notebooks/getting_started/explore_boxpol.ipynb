{
 "cells": [
  {
   "cell_type": "markdown",
   "metadata": {},
   "source": [
    "This notebook is part of [miubrt](https://github.com/meteo-ubonn/miubrt).\n",
    "\n",
    "Copyright (c) [miubrt developers](https://github.com/meteo-ubonn/miubrt/blob/main/CONTRIBUTORS.txt). \n",
    "Distributed under the MIT License. See [LICENSE.txt](https://github.com/meteo-ubonn/miubrt/blob/main/LICENSE.txt) for more info."
   ]
  },
  {
   "cell_type": "markdown",
   "metadata": {},
   "source": [
    "# Create NetCDF4 output - Explore BoXPol/JuXPol\n",
    "<div class=\"alert alert-info\">\n",
    "\n",
    "**User Info** <br>\n",
    " Global Data - User Input \n",
    " \n",
    " start_time, end_time, location and sweep\n",
    " \n",
    " location = \"BoXPol\" or \"JuXPol\"  (X-band radar)\n",
    " \n",
    " elev_id  = 0 ... 9   (IDs for elevation angles)\n",
    "    \n",
    " For BoXPol, the elevation folders name change in 2017 (check for error message)\n",
    "   \n",
    "</div>\n",
    " "
   ]
  },
  {
   "cell_type": "code",
   "execution_count": null,
   "metadata": {},
   "outputs": [],
   "source": [
    "import sys\n",
    "import warnings\n",
    "warnings.filterwarnings('ignore')"
   ]
  },
  {
   "cell_type": "code",
   "execution_count": null,
   "metadata": {},
   "outputs": [],
   "source": [
    "import datetime as dt\n",
    "import numpy as np\n",
    "import dask\n",
    "import wradlib as wrl\n",
    "import xarray as xr"
   ]
  },
  {
   "cell_type": "code",
   "execution_count": null,
   "metadata": {},
   "outputs": [],
   "source": [
    "# for using local development version, uncomment next lines otherwise installed `miubrt` version will be used\n",
    "# miubrt_dir = \"../../\"\n",
    "# if sys.path[0] != miubrt_dir:\n",
    "#     sys.path.insert(0, \"../../\")"
   ]
  },
  {
   "cell_type": "code",
   "execution_count": null,
   "metadata": {},
   "outputs": [],
   "source": [
    "import miubrt as mrt"
   ]
  },
  {
   "cell_type": "markdown",
   "metadata": {},
   "source": [
    "# Global Data - USER INPUT"
   ]
  },
  {
   "cell_type": "code",
   "execution_count": null,
   "metadata": {},
   "outputs": [],
   "source": [
    "start_time = dt.datetime(2015, 7, 5, 0, 0)\n",
    "end_time = dt.datetime(2015, 7, 5, 23, 59, 59)\n",
    "location = \"BoXPol\"\n",
    "elev_id  = 0\n",
    "# User Input End #\n",
    "\n",
    "if location == \"BoXPol\":\n",
    "    snames = [\"n_ppi_010deg\",\"ppi_1p5deg\",\"ppi_2p4deg\",\"ppi_3p4deg\",\"n_ppi_045deg\",\"n_ppi_082deg\", \n",
    "          \"n_ppi_110deg\",\"n_ppi_140deg\",\"n_ppi_180deg\",\"n_ppi_280deg\"]\n",
    "    # 2017 onwards, elevations changed ?\n",
    "    #snames = [\"n_ppi_010deg\",\"n_ppi_020deg\",\"n_ppi_031deg\",\"n_ppi_045deg\",\"n_ppi_060deg\",\"n_ppi_082deg\", \n",
    "    #      \"n_ppi_110deg\",\"n_ppi_140deg\", \"n_ppi_180deg\", \"n_ppi_280deg\"]\n",
    "    #\n",
    "    sname  = snames[elev_id]\n",
    "    sweep  = 0\n",
    "elif location == \"JuXPol\":\n",
    "    sname = \"DWD_Vol_2\"\n",
    "    sweep = elev_id\n",
    "\n",
    "output_path = \"\""
   ]
  },
  {
   "cell_type": "markdown",
   "metadata": {},
   "source": [
    "# Create Netcdf Dataset of wanted radar data"
   ]
  },
  {
   "cell_type": "code",
   "execution_count": null,
   "metadata": {},
   "outputs": [],
   "source": [
    "%%time\n",
    "fname_raw = mrt.io.create_netcdf_dataset(location, sname, start_time, end_time, sweep, outpath=output_path, engine='h5netcdf', chunks=None)\n",
    "fname_raw"
   ]
  },
  {
   "cell_type": "markdown",
   "metadata": {},
   "source": [
    "# Load and Explore Dataset"
   ]
  },
  {
   "cell_type": "code",
   "execution_count": null,
   "metadata": {},
   "outputs": [],
   "source": [
    "import matplotlib as mpl\n",
    "import hvplot\n",
    "import hvplot.xarray\n",
    "import holoviews as hv"
   ]
  },
  {
   "cell_type": "markdown",
   "metadata": {},
   "source": [
    "## Load"
   ]
  },
  {
   "cell_type": "code",
   "execution_count": null,
   "metadata": {},
   "outputs": [],
   "source": [
    "swp = xr.open_dataset(fname_raw, chunks={\"time\": 12})"
   ]
  },
  {
   "cell_type": "markdown",
   "metadata": {},
   "source": [
    "## Georeference"
   ]
  },
  {
   "cell_type": "code",
   "execution_count": null,
   "metadata": {},
   "outputs": [],
   "source": [
    "swp = swp.pipe(wrl.georef.georeference_dataset)"
   ]
  },
  {
   "cell_type": "markdown",
   "metadata": {},
   "source": [
    "## Interactive Exploration"
   ]
  },
  {
   "cell_type": "code",
   "execution_count": null,
   "metadata": {},
   "outputs": [],
   "source": [
    "swp = swp.chunk()"
   ]
  },
  {
   "cell_type": "code",
   "execution_count": null,
   "metadata": {},
   "outputs": [],
   "source": [
    "dbz_plot = swp.hvplot.quadmesh(groupby='time',\n",
    "                               x='x', y='y', \n",
    "                               z='DBZH', \n",
    "                               rasterize=True, \n",
    "                               clim=(-20,50), \n",
    "                               cmap=mpl.cm.nipy_spectral,\n",
    "                               frame_width=500,\n",
    "                               aspect=1,\n",
    "                              )\n",
    "\n",
    "dbz_plot = dbz_plot.options(color_levels=list(np.arange(-20, 51, 2)))\n",
    "dbz_plot"
   ]
  }
 ],
 "metadata": {
  "kernelspec": {
   "display_name": "Python 3",
   "language": "python",
   "name": "python3"
  },
  "language_info": {
   "codemirror_mode": {
    "name": "ipython",
    "version": 3
   },
   "file_extension": ".py",
   "mimetype": "text/x-python",
   "name": "python",
   "nbconvert_exporter": "python",
   "pygments_lexer": "ipython3",
   "version": "3.7.8"
  }
 },
 "nbformat": 4,
 "nbformat_minor": 4
}
