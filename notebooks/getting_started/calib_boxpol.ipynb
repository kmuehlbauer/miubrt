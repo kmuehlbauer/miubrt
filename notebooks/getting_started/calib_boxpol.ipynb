{
 "cells": [
  {
   "cell_type": "markdown",
   "metadata": {},
   "source": [
    "This notebook is part of [miubrt](https://github.com/meteo-ubonn/miubrt).\n",
    "\n",
    "Copyright (c) [miubrt developers](https://github.com/meteo-ubonn/miubrt/blob/main/CONTRIBUTORS.txt). \n",
    "Distributed under the MIT License. See [LICENSE.txt](https://github.com/meteo-ubonn/miubrt/blob/main/LICENSE.txt) for more info."
   ]
  },
  {
   "cell_type": "markdown",
   "metadata": {},
   "source": [
    "# Obtain calibration offset for ZH and ZDR\n",
    "<div class=\"alert alert-info\">\n",
    "\n",
    "**User Info** <br>\n",
    " Global Data - User Input \n",
    "   start_time, end_time, location, par, fil_create, thrnan, thrbin, fname_ppi, fname_ver\n",
    "   location = \"BoXPol\" or \"JuXPol\"  (X-band radar)\n",
    "   par contains multiple attributes which needs to be tuned\n",
    "    \n",
    " ZDR calibration uses \"Bird Bath\" method with azimuthal averaging\n",
    "    \n",
    " ZH calibration then uses iterative solution with calibrated ZDR,  using ZH vs ZDR relationship based on  Rhyzkhov 2019 for X-band to compute the offset with least rmsd.\n",
    "    \n",
    " This is a research code!\n",
    "   \n",
    "</div>\n",
    " "
   ]
  },
  {
   "cell_type": "code",
   "execution_count": null,
   "metadata": {},
   "outputs": [],
   "source": [
    "import sys\n",
    "import warnings\n",
    "warnings.filterwarnings('ignore')"
   ]
  },
  {
   "cell_type": "code",
   "execution_count": null,
   "metadata": {},
   "outputs": [],
   "source": [
    "import datetime as dt\n",
    "import numpy as np\n",
    "import scipy\n",
    "from scipy import stats\n",
    "import dask\n",
    "import wradlib as wrl\n",
    "import xarray as xr"
   ]
  },
  {
   "cell_type": "code",
   "execution_count": null,
   "metadata": {},
   "outputs": [],
   "source": [
    "# for using local development version, uncomment next lines otherwise installed `miubrt` version will be used\n",
    "# miubrt_dir = \"../../\"\n",
    "# if sys.path[0] != miubrt_dir:\n",
    "#     sys.path.insert(0, \"../../\")"
   ]
  },
  {
   "cell_type": "code",
   "execution_count": null,
   "metadata": {},
   "outputs": [],
   "source": [
    "import miubrt as mrt"
   ]
  },
  {
   "cell_type": "markdown",
   "metadata": {},
   "source": [
    "# Global Data - USER INPUT"
   ]
  },
  {
   "cell_type": "code",
   "execution_count": null,
   "metadata": {},
   "outputs": [],
   "source": [
    "start_time = dt.datetime(2015, 7, 5, 0, 0)\n",
    "end_time   = dt.datetime(2015, 7, 5, 23, 59, 59)\n",
    "location   = \"BoXPol\"\n",
    "\n",
    "class par:\n",
    "    rhohv_th   = 0.99    # to remove hail\n",
    "    phidp_th   = 10.0    # attenuation constraint\n",
    "    dbz_th     = 30.0    # light rain\n",
    "    dbz_thm    = 10.0    # for rain\n",
    "    z_melt     = 4000.   # only below melting layer (JOYCE data)\n",
    "    z_noise    = 1200.   # for ground clutter\n",
    "\n",
    "fil_create = True\n",
    "thrnan     = 10000   # threshold of number of zdr data (not nan) vertical scan\n",
    "thrbin     = 200     # threshold of number of data available per bin for ZH calibration\n",
    "fname_ppi  = \"/data/hubhome/pshrestha/netcdf4/20150705/calib/BoXPol_010_20150705_0000_0000.nc\"\n",
    "fname_ver  = \"/data/hubhome/pshrestha/netcdf4/20150705/calib/BoXPol_900_20150705_0000_0000.nc\"\n",
    "# User Input End #\n",
    "\n",
    "# Climatological data (Ryzkhov 2019)\n",
    "zh_X = np.array([20.,22.,24.,26.,28.,30.])\n",
    "zdr_X = np.array([0.23,0.28,0.33,0.41,0.44,0.58])\n",
    "#\n",
    "    \n",
    "if location == \"BoXPol\":\n",
    "    sname  = \"n_vertical_scan\"\n",
    "    sweep  = 0\n",
    "elif location == \"JuXPol\":\n",
    "    sname = \"DWD_Vol_2\"\n",
    "    sweep = 0\n",
    "output_path = \"\""
   ]
  },
  {
   "cell_type": "markdown",
   "metadata": {},
   "source": [
    "# Create Netcdf Dataset of wanted radar data"
   ]
  },
  {
   "cell_type": "code",
   "execution_count": null,
   "metadata": {},
   "outputs": [],
   "source": [
    "if (fil_create):\n",
    "    fname_ppi = mrt.io.create_netcdf_dataset(location, \"n_ppi_010deg\", start_time, end_time, sweep, \n",
    "                                         outpath=output_path, engine='h5netcdf', chunks=None)\n",
    "    fname_ver = mrt.io.create_netcdf_dataset(location, sname, start_time, end_time, sweep, \n",
    "                                         outpath=output_path, engine='h5netcdf', chunks=None)"
   ]
  },
  {
   "cell_type": "code",
   "execution_count": null,
   "metadata": {},
   "outputs": [],
   "source": [
    "print(fname_ppi)\n",
    "print(fname_ver)"
   ]
  },
  {
   "cell_type": "markdown",
   "metadata": {},
   "source": [
    "# Load and Explore Dataset"
   ]
  },
  {
   "cell_type": "code",
   "execution_count": null,
   "metadata": {},
   "outputs": [],
   "source": [
    "import matplotlib as mpl\n",
    "import matplotlib.pyplot as plt\n",
    "plt.rcParams.update({'font.size': 16})\n",
    "from matplotlib import gridspec\n",
    "from scipy.optimize import curve_fit\n",
    "import hvplot\n",
    "import hvplot.xarray\n",
    "import holoviews as hv"
   ]
  },
  {
   "cell_type": "markdown",
   "metadata": {},
   "source": [
    "## Load"
   ]
  },
  {
   "cell_type": "code",
   "execution_count": null,
   "metadata": {},
   "outputs": [],
   "source": [
    "swp = xr.open_dataset(fname_ver, chunks={\"time\": 1})\n",
    "swp = swp.pipe(wrl.georef.georeference_dataset)\n",
    "swp  = swp.chunk()\n",
    "#\n",
    "swp2 = xr.open_dataset(fname_ppi, chunks={\"time\": 1})\n",
    "swp2 = swp2.pipe(wrl.georef.georeference_dataset)\n",
    "swp2  = swp2.chunk()"
   ]
  },
  {
   "cell_type": "markdown",
   "metadata": {},
   "source": [
    "## Extract masked polarimetric moments"
   ]
  },
  {
   "cell_type": "code",
   "execution_count": null,
   "metadata": {},
   "outputs": [],
   "source": [
    "i = 0\n",
    "zh, zdr, kdp, rhohv, phidp, z = mrt.pol.calib_mask(swp, i, par)"
   ]
  },
  {
   "cell_type": "code",
   "execution_count": null,
   "metadata": {},
   "outputs": [],
   "source": [
    "zdr"
   ]
  },
  {
   "cell_type": "code",
   "execution_count": null,
   "metadata": {},
   "outputs": [],
   "source": [
    "swp.DBZH[0].plot(x=\"x\", y=\"y\", vmin=-10, vmax=20)"
   ]
  },
  {
   "cell_type": "markdown",
   "metadata": {},
   "source": [
    "## Select time with rain above radar"
   ]
  },
  {
   "cell_type": "code",
   "execution_count": null,
   "metadata": {},
   "outputs": [],
   "source": [
    "ndims = zdr.shape\n",
    "st =[]\n",
    "sctr =[]\n",
    "for t in range(ndims[0]):\n",
    "    ctr = np.count_nonzero(~np.isnan(zdr[t]))\n",
    "    print(ctr)\n",
    "    if (ctr > thrnan):\n",
    "        #print(t,ctr)\n",
    "        st.append(t)\n",
    "        sctr.append(ctr)"
   ]
  },
  {
   "cell_type": "code",
   "execution_count": null,
   "metadata": {},
   "outputs": [],
   "source": [
    "t=st[0]"
   ]
  },
  {
   "cell_type": "code",
   "execution_count": null,
   "metadata": {},
   "outputs": [],
   "source": [
    "t = 6"
   ]
  },
  {
   "cell_type": "markdown",
   "metadata": {},
   "source": [
    "## Diagnostic Plots - PPI"
   ]
  },
  {
   "cell_type": "code",
   "execution_count": null,
   "metadata": {},
   "outputs": [],
   "source": [
    "colors = ('#00f8f8', '#01b8fb', '#0000fa', '#00ff00', '#00d000', '#009400', \n",
    "          '#ffff00', '#f0cc00', '#ff9e00', '#ff0000', '#e40000', '#cc0000', \n",
    "          '#ff00ff', '#a06cd5')\n",
    "\n",
    "dbz_levels=  [ -5, 0, 5, 10, 15, 20, 25, 30, 35, 40, 45, 50, 55, 60]\n",
    "#zdr_levels = [0, 0.1, 0.2, 0.3, 0.4, 0.5, 0.6, 0.8, 1.0, 1.2, 1.5, 2.0, 2.5, 3.0]\n",
    "zdr_levels = np.arange(0,1.3,0.1) -1.5\n",
    "kdp_levels = [-1., -0.5, -0.1, 0.0, 0.05, 0.10, 0.20, 0.30, 0.40, 0.60, 0.80, 1., 2., 3.]\n",
    "rho_levels = [0.7,0.8, 0.85, 0.9, 0.92, 0.94, 0.95, 0.96, 0.97, 0.98, 0.985, 0.99, 0.995, 1.0] \n",
    "phi_levels = [0, 5, 10, 15, 20, 25, 30, 40, 50, 60, 70, 80, 90, 100]\n",
    "z_levels   = [par.z_noise,par.z_melt-2000.,par.z_melt,par.z_melt+2000.]"
   ]
  },
  {
   "cell_type": "code",
   "execution_count": null,
   "metadata": {},
   "outputs": [],
   "source": [
    "fig = plt.figure(figsize=(20,15),constrained_layout=True)\n",
    "gs = gridspec.GridSpec(2, 2,fig)\n",
    "boxminmax = [-2,2,-2,2]\n",
    "xmin = boxminmax[0]\n",
    "xmax = boxminmax[1]\n",
    "ymin = boxminmax[2]\n",
    "ymax = boxminmax[3]\n",
    "#\n",
    "ax0 = fig.add_subplot(gs[0,0])\n",
    "p0 = zh[t].wradlib.plot_ppi( cmap=False,\n",
    "                               levels=dbz_levels,\n",
    "                               colors=colors, extend='neither',\n",
    "                               add_colorbar=True, \n",
    "                               cbar_kwargs={'ticks': dbz_levels[0:-1]},\n",
    "                               ax=ax0\n",
    "                              )\n",
    "z.plot.contour(x='x', y='y',levels = z_levels,\n",
    "                 colors=('k',),linestyles=('--',),linewidths=(2,))\n",
    "ax0.set_xlim([xmin,xmax])\n",
    "ax0.set_ylim([ymin,ymax])\n",
    "#\n",
    "ax1 = fig.add_subplot(gs[0,1:])\n",
    "p1 = zdr[t].wradlib.plot_ppi( cmap=False,\n",
    "                               levels=zdr_levels,\n",
    "                               colors=colors, extend='neither',\n",
    "                               add_colorbar=True, \n",
    "                               cbar_kwargs={'ticks': zdr_levels[0:-1]},\n",
    "                               ax=ax1\n",
    "                              )\n",
    "z.plot.contour(x='x', y='y',levels = z_levels,\n",
    "                 colors=('k',),linestyles=('--',),linewidths=(2,))\n",
    "ax1.set_xlim([xmin,xmax])\n",
    "ax1.set_ylim([ymin,ymax])\n",
    "#\n",
    "ax2 = fig.add_subplot(gs[1:,0])\n",
    "p2 = rhohv[t].wradlib.plot_ppi( cmap=False,\n",
    "                               levels=rho_levels,\n",
    "                               colors=colors, extend='neither',\n",
    "                               add_colorbar=True, \n",
    "                               cbar_kwargs={'ticks': rho_levels[0:-1]},\n",
    "                               ax=ax2\n",
    "                              )\n",
    "z.plot.contour(x='x', y='y',levels = z_levels,\n",
    "                 colors=('k',),linestyles=('--',),linewidths=(2,))\n",
    "ax2.set_xlim([xmin,xmax])\n",
    "ax2.set_ylim([ymin,ymax])\n",
    "#\n",
    "ax3 = fig.add_subplot(gs[1:,1:])\n",
    "p3 = phidp[t].wradlib.plot_ppi( cmap=False,\n",
    "                               levels=phi_levels,\n",
    "                               colors=colors, extend='neither',\n",
    "                               add_colorbar=True, \n",
    "                               cbar_kwargs={'ticks': phi_levels[0:-1]},\n",
    "                               ax=ax3\n",
    "                              )\n",
    "z.plot.contour(x='x', y='y',levels = z_levels,\n",
    "                 colors=('k',),linestyles=('--',),linewidths=(2,))\n",
    "ax3.set_xlim([xmin,xmax])\n",
    "ax3.set_ylim([ymin,ymax])"
   ]
  },
  {
   "cell_type": "markdown",
   "metadata": {},
   "source": [
    "## Diagnostic Plots - height_time contour"
   ]
  },
  {
   "cell_type": "code",
   "execution_count": null,
   "metadata": {},
   "outputs": [],
   "source": [
    "# Select any azimuth index\n",
    "azid  = 130  "
   ]
  },
  {
   "cell_type": "code",
   "execution_count": null,
   "metadata": {},
   "outputs": [],
   "source": [
    "zh_2d      = zh[:,azid,:].transpose(\"range\",\"time\")\n",
    "zdr_2d      = zdr[:,azid,:].transpose(\"range\",\"time\")"
   ]
  },
  {
   "cell_type": "code",
   "execution_count": null,
   "metadata": {},
   "outputs": [],
   "source": [
    "xmin = np.array('2015-07-05T15:40:00.000000000', dtype='datetime64[ns]')\n",
    "xmax = np.array('2015-07-05T16:15:30.000000000', dtype='datetime64[ns]')\n",
    "ymin = 0\n",
    "ymax = par.z_melt\n",
    "fig = plt.figure(figsize=(20,15),constrained_layout=True)\n",
    "gs = gridspec.GridSpec(2, 2,fig)\n",
    "ax0 = fig.add_subplot(gs[0,0])\n",
    "p0 = zh_2d.plot(levels=dbz_levels,\n",
    "                               colors=colors, extend='neither',\n",
    "                               add_colorbar=True, \n",
    "                               cbar_kwargs={'ticks': dbz_levels[0:-1]},ax=ax0)\n",
    "ax0.set_xlim([xmin,xmax])\n",
    "ax0.set_ylim([ymin,ymax])\n",
    "#\n",
    "ax1 = fig.add_subplot(gs[0,1:])\n",
    "p1 = zdr_2d.plot(levels=zdr_levels,\n",
    "                               colors=colors, extend='neither',\n",
    "                               add_colorbar=True, \n",
    "                               cbar_kwargs={'ticks': zdr_levels[0:-1]},ax=ax1)\n",
    "ax1.set_xlim([xmin,xmax])\n",
    "ax1.set_ylim([ymin,ymax])"
   ]
  },
  {
   "cell_type": "markdown",
   "metadata": {},
   "source": [
    "## Compute ZDR calibration offset"
   ]
  },
  {
   "cell_type": "code",
   "execution_count": null,
   "metadata": {},
   "outputs": [],
   "source": [
    "from dask.diagnostics import ProgressBar\n",
    "with ProgressBar():\n",
    "    zdr_crop  = zdr[st]\n",
    "    sbins = np.arange(-2.5, 2.5, 0.1)\n",
    "    cbins = np.arange(-2.45, 2.45, 0.1)\n",
    "    counts, bins = np.histogram(zdr_crop,sbins)\n",
    "\n",
    "counts = counts/sum(counts)\n",
    "#\n",
    "zdr_avg = zdr_crop.mean(('azimuth','range'))\n",
    "zdr_offset = zdr_avg.values.round(2)\n",
    "print(\"ZDR calibration offset = \", zdr_offset)\n",
    "zdr_tavg = np.mean(zdr_avg)\n",
    "zdr_avg_offset = zdr_tavg.values.round(2)\n",
    "print(\"ZDR average calibration offset = \", zdr_avg_offset)"
   ]
  },
  {
   "cell_type": "markdown",
   "metadata": {},
   "source": [
    "### ZDR Historgram"
   ]
  },
  {
   "cell_type": "code",
   "execution_count": null,
   "metadata": {},
   "outputs": [],
   "source": [
    "plt.hist(bins[:-1], bins, weights=counts)\n",
    "plt.xlabel('ZDR')\n",
    "plt.ylabel('Probability')\n",
    "plt.title('ZDR offset  = ' + str(zdr_avg_offset))\n",
    "plt.grid(True)"
   ]
  },
  {
   "cell_type": "markdown",
   "metadata": {},
   "source": [
    "## Add offset to ZDR"
   ]
  },
  {
   "cell_type": "code",
   "execution_count": null,
   "metadata": {},
   "outputs": [],
   "source": [
    "zdr_corr = zdr - zdr_avg_offset\n",
    "zdr_levels_corr = zdr_levels - zdr_avg_offset"
   ]
  },
  {
   "cell_type": "markdown",
   "metadata": {},
   "source": [
    "## Updated ZDR plots"
   ]
  },
  {
   "cell_type": "code",
   "execution_count": null,
   "metadata": {},
   "outputs": [],
   "source": [
    "fig = plt.figure(figsize=(20,15),constrained_layout=True)\n",
    "gs = gridspec.GridSpec(2, 2,fig)\n",
    "boxminmax = [-2,2,-2,2]\n",
    "xmin = boxminmax[0]\n",
    "xmax = boxminmax[1]\n",
    "ymin = boxminmax[2]\n",
    "ymax = boxminmax[3]\n",
    "#\n",
    "ax0 = fig.add_subplot(gs[0,0])\n",
    "p0 = zdr[t].wradlib.plot_ppi( cmap=False,\n",
    "                               levels=zdr_levels,\n",
    "                               colors=colors, extend='neither',\n",
    "                               add_colorbar=True, \n",
    "                               cbar_kwargs={'ticks': zdr_levels[0:-1]},\n",
    "                               ax=ax0\n",
    "                              )\n",
    "z.plot.contour(x='x', y='y',levels = z_levels,\n",
    "                 colors=('k',),linestyles=('--',),linewidths=(2,))\n",
    "ax0.set_xlim([xmin,xmax])\n",
    "ax0.set_ylim([ymin,ymax])\n",
    "#\n",
    "ax1 = fig.add_subplot(gs[0,1:])\n",
    "p1 = zdr_corr[t].wradlib.plot_ppi( cmap=False,\n",
    "                               levels=zdr_levels_corr,\n",
    "                               colors=colors, extend='neither',\n",
    "                               add_colorbar=True, \n",
    "                               cbar_kwargs={'ticks': zdr_levels_corr[0:-1]},\n",
    "                               ax=ax1\n",
    "                              )\n",
    "z.plot.contour(x='x', y='y',levels = z_levels,\n",
    "                 colors=('k',),linestyles=('--',),linewidths=(2,))\n",
    "ax1.set_xlim([xmin,xmax])\n",
    "ax1.set_ylim([ymin,ymax])\n"
   ]
  },
  {
   "cell_type": "markdown",
   "metadata": {},
   "source": [
    "## Clear data"
   ]
  },
  {
   "cell_type": "code",
   "execution_count": null,
   "metadata": {},
   "outputs": [],
   "source": [
    "del zh, zdr, kdp, rhohv, phidp, z"
   ]
  },
  {
   "cell_type": "markdown",
   "metadata": {},
   "source": [
    "# ZH Calibration Offset Estimate"
   ]
  },
  {
   "cell_type": "code",
   "execution_count": null,
   "metadata": {},
   "outputs": [],
   "source": [
    "i=0\n",
    "swp3 = swp2.copy()\n",
    "#correct phase offset first\n",
    "swp3['PHIDP'] = mrt.pol.phase_offset(swp2)\n",
    "#Filter data\n",
    "zh, zdr, kdp, rhohv, phidp, z = mrt.pol.calib_mask(swp3,i, par)"
   ]
  },
  {
   "cell_type": "markdown",
   "metadata": {},
   "source": [
    "## Dynamic diagnostic plots"
   ]
  },
  {
   "cell_type": "code",
   "execution_count": null,
   "metadata": {},
   "outputs": [],
   "source": [
    "pvar  = zh\n",
    "plevs = dbz_levels\n",
    "pol_plot = pvar.hvplot.quadmesh(groupby='time',x='x', y='y', \n",
    "                   frame_width=300, aspect=1, rasterize=True,\n",
    "                   clim=(min(plevs),max(plevs)), cmap=colors)\n",
    "pol_plot = pol_plot.options(color_levels=list(plevs))\n",
    "pol_plot"
   ]
  },
  {
   "cell_type": "code",
   "execution_count": null,
   "metadata": {},
   "outputs": [],
   "source": [
    "#Initialize data for linear fit\n",
    "rmsd =[]\n",
    "slope_data =[]\n",
    "intercept_data =[]\n",
    "\n",
    "#Reshape and remove NaN data\n",
    "from dask.diagnostics import ProgressBar\n",
    "with ProgressBar():\n",
    "    xdata = zh.values.flatten()   \n",
    "    x     = xdata[np.logical_not(np.isnan(xdata))]\n",
    "    ydata = zdr.values.flatten()   \n",
    "    y     = ydata[np.logical_not(np.isnan(xdata))]\n",
    "\n",
    "#Estimate median ZDR via ZH binning, and count available data per bin\n",
    "db = 1. # resolution of ZH bin\n",
    "zh_bin_bdr = np.arange(par.dbz_thm-db/2.,par.dbz_th+db/2,db) \n",
    "ndim = len(zh_bin_bdr)-1\n",
    "zdr_bin    = np.empty(ndim)\n",
    "zh_bin     = np.empty(ndim)\n",
    "ctr_bin    = np.empty(ndim)\n",
    "for ss in range(ndim):\n",
    "    zh_bin[ss] = 0.5*(zh_bin_bdr[ss] + zh_bin_bdr[ss+1] )\n",
    "    tdata = np.where(((x > zh_bin_bdr[ss]) & (x <= zh_bin_bdr[ss+1])),y,np.nan)\n",
    "    ctr_bin[ss] = tdata.size - np.isnan(tdata).sum()  \n",
    "    if (ctr_bin[ss]>thrbin):\n",
    "        zdr_bin[ss] = np.nanmedian(tdata)\n",
    "    else:\n",
    "        zdr_bin[ss] = np.nan       \n",
    "\n",
    "#Find first index where number of data per bin is greater than threshold for Ryzkhov light rain\n",
    "zh_start = zh_bin[np.argmax(ctr_bin > thrbin)]\n",
    "istart    = np.argmax(zh_X > zh_start)\n",
    "print(\"Difference computed >\", zh_start, istart)\n",
    "\n",
    "#Use only ZH data > zh_start\n",
    "x     = np.where((x>zh_start),x,np.nan)\n",
    "y     = np.where((x>zh_start),y,np.nan)\n",
    "xnew  = x[np.logical_not(np.isnan(x))]\n",
    "ynew  = y[np.logical_not(np.isnan(y))]\n",
    "\n",
    "#Calibrate ZDR data\n",
    "ycal  = ynew - zdr_avg_offset\n",
    "zdr_bin = zdr_bin - zdr_avg_offset\n",
    "\n",
    "#Iterate over a range of ZH offset\n",
    "zh_offset = np.arange(-5.,5.,1.0)\n",
    "for ioff in zh_offset:\n",
    "    xcal     = xnew - ioff\n",
    "    slope, intercept, r_value, p_value, std_err = stats.linregress(xcal,ycal)\n",
    "    zdr_pred = slope * zh_X + intercept\n",
    "    # Only compute rmsd difference for data > thrbin\n",
    "    val = np.sqrt(((zdr_pred[istart:] - zdr_X[istart:]) ** 2).mean())\n",
    "    #print(ioff, 'rmsd:', val)\n",
    "    rmsd.append(val)\n",
    "    slope_data.append(slope)\n",
    "    intercept_data.append(intercept)\n",
    "\n",
    "# Select offset with minimum difference\n",
    "irdx = np.argmin(rmsd)\n",
    "zh_avg_offset = zh_offset[irdx]\n",
    "print(\"ZH_calibration_offset: \",zh_avg_offset, \"rmsd: \",rmsd[irdx])\n",
    "\n",
    "#Estimate the prediction based on linear fits\n",
    "slope = slope_data[irdx]\n",
    "intercept = intercept_data[irdx]\n",
    "zdr_pred = slope * zh_X + intercept\n",
    "\n",
    "#Calibrate ZH data\n",
    "xcal     = xnew - zh_avg_offset\n",
    "zh_bin   = zh_bin - zh_avg_offset"
   ]
  },
  {
   "cell_type": "markdown",
   "metadata": {},
   "source": [
    "## Diagnostic Plot - Zh vs Calibrated ZDR, with estimates"
   ]
  },
  {
   "cell_type": "code",
   "execution_count": null,
   "metadata": {},
   "outputs": [],
   "source": [
    "#Scatter plot \n",
    "fig = plt.figure(figsize=(20,15),constrained_layout=True)\n",
    "ax0 = fig.add_subplot(231)\n",
    "from dask.diagnostics import ProgressBar\n",
    "with ProgressBar():\n",
    "    p0 = plt.scatter(xcal, ycal, c=\"g\", alpha=0.5)\n",
    "\n",
    "plt.grid(True)\n",
    "lines   = plt.plot(zh_bin,zdr_bin,'k--')\n",
    "lines   = plt.plot(zh_X,zdr_X,'r-')\n",
    "lines   = plt.plot(zh_X[istart:],zdr_pred[istart:],'b-')\n",
    "#-- get window ID from the first plot\n",
    "my_plot = plt.gca()\n",
    "ax0.set_ylim([-0.5,3.0])"
   ]
  },
  {
   "cell_type": "markdown",
   "metadata": {},
   "source": [
    "## Print esitmated calibration offset parameters"
   ]
  },
  {
   "cell_type": "code",
   "execution_count": null,
   "metadata": {},
   "outputs": [],
   "source": [
    "print(\"ZDR calibration offset \", zdr_avg_offset)\n",
    "print(\"ZH calibration offset \", zh_avg_offset)"
   ]
  },
  {
   "cell_type": "code",
   "execution_count": null,
   "metadata": {},
   "outputs": [],
   "source": []
  }
 ],
 "metadata": {
  "kernelspec": {
   "display_name": "Python 3",
   "language": "python",
   "name": "python3"
  },
  "language_info": {
   "codemirror_mode": {
    "name": "ipython",
    "version": 3
   },
   "file_extension": ".py",
   "mimetype": "text/x-python",
   "name": "python",
   "nbconvert_exporter": "python",
   "pygments_lexer": "ipython3",
   "version": "3.7.8"
  }
 },
 "nbformat": 4,
 "nbformat_minor": 4
}
